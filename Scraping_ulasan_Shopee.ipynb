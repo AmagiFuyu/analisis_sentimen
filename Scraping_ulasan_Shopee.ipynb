{
  "nbformat": 4,
  "nbformat_minor": 0,
  "metadata": {
    "colab": {
      "provenance": []
    },
    "kernelspec": {
      "name": "python3",
      "display_name": "Python 3"
    },
    "language_info": {
      "name": "python"
    }
  },
  "cells": [
    {
      "cell_type": "markdown",
      "source": [
        "## Download Library Sastrawi"
      ],
      "metadata": {
        "id": "nxPgFEhztHOw"
      }
    },
    {
      "cell_type": "code",
      "source": [
        "!pip install Sastrawi\n",
        "from Sastrawi.Stemmer.StemmerFactory import StemmerFactory\n",
        "factory = StemmerFactory()\n",
        "stemmer = factory.create_stemmer()"
      ],
      "metadata": {
        "colab": {
          "base_uri": "https://localhost:8080/"
        },
        "id": "6BiGhH8LDdEN",
        "outputId": "2cb16e91-4ac9-42b5-a94b-7209c226b04f"
      },
      "execution_count": 2,
      "outputs": [
        {
          "output_type": "stream",
          "name": "stdout",
          "text": [
            "Collecting Sastrawi\n",
            "  Downloading Sastrawi-1.0.1-py2.py3-none-any.whl.metadata (909 bytes)\n",
            "Downloading Sastrawi-1.0.1-py2.py3-none-any.whl (209 kB)\n",
            "\u001b[?25l   \u001b[90m━━━━━━━━━━━━━━━━━━━━━━━━━━━━━━━━━━━━━━━━\u001b[0m \u001b[32m0.0/209.7 kB\u001b[0m \u001b[31m?\u001b[0m eta \u001b[36m-:--:--\u001b[0m\r\u001b[2K   \u001b[90m━━━━━━━━━━━━━━━━━━━━━━━━━━━━━━━━━━━━━━━━\u001b[0m \u001b[32m209.7/209.7 kB\u001b[0m \u001b[31m7.2 MB/s\u001b[0m eta \u001b[36m0:00:00\u001b[0m\n",
            "\u001b[?25hInstalling collected packages: Sastrawi\n",
            "Successfully installed Sastrawi-1.0.1\n"
          ]
        }
      ]
    },
    {
      "cell_type": "markdown",
      "source": [
        "## Import Library"
      ],
      "metadata": {
        "id": "SfvuSLbtq6I4"
      }
    },
    {
      "cell_type": "code",
      "execution_count": 9,
      "metadata": {
        "id": "wpyffUW4qw6T"
      },
      "outputs": [],
      "source": [
        "import time\n",
        "import requests\n",
        "import pandas as pd\n",
        "from bs4 import BeautifulSoup\n",
        "from Sastrawi.Stemmer.StemmerFactory import StemmerFactory\n",
        "import nltk\n",
        "import json"
      ]
    },
    {
      "cell_type": "markdown",
      "source": [
        "## Scraping Data"
      ],
      "metadata": {
        "id": "PAJrCYRCbIRx"
      }
    },
    {
      "cell_type": "code",
      "source": [
        "def scrape_playstore_reviews(app_id, num_reviews=3000):\n",
        "    reviews = []\n",
        "    for page in range(1, num_reviews // 40 + 2):\n",
        "        url = f\"https://play.google.com/store/getreviews?authuser=0&reviewType=0&pageNum={page}&id={app_id}&reviewSortOrder=0&xhr=1\"\n",
        "        headers = {\n",
        "            'User-Agent': 'Mozilla/5.0',\n",
        "            'Content-Type': 'application/x-www-form-urlencoded;charset=UTF-8'\n",
        "        }\n",
        "        data = f'reviewType=0&pageNum={page}&id={app_id}&reviewSortOrder=0&xhr=1'\n",
        "        response = requests.post(url, headers=headers, data=data)\n",
        "        try:\n",
        "            content = json.loads(response.text[6:])[0][2]\n",
        "            soup = BeautifulSoup(content, 'html.parser')\n",
        "            for div in soup.find_all('div', class_='review-body'):\n",
        "                text = div.text.strip()\n",
        "                if text:\n",
        "                    reviews.append(text)\n",
        "        except Exception:\n",
        "            continue\n",
        "        time.sleep(0.5)\n",
        "        if len(reviews) >= num_reviews:\n",
        "            break\n",
        "    return pd.DataFrame(reviews[:num_reviews], columns=['review'])\n",
        "\n",
        "app_id = \"com.shopee.id\"\n",
        "df = scrape_playstore_reviews(app_id, num_reviews=3000)\n",
        "\n",
        "# Tambahkan data kompleks manual\n",
        "additional_reviews = [\n",
        "    \"Aplikasi ini sangat membantu, tapi kadang lemot kalau sinyal buruk. Overall oke lah.\",\n",
        "    \"Belanja pertama lancar, yang kedua barangnya lama banget dikirim. Kecewa sih.\",\n",
        "    \"UI/UX sudah membaik dari versi sebelumnya, tapi sistem pencarian masih tidak akurat.\",\n",
        "    \"Kenapa tiba-tiba aplikasi force close terus? Padahal sebelumnya lancar.\",\n",
        "    \"Pengalaman belanja sangat menyenangkan, pengiriman cepat, CS responsif. Good job!\",\n",
        "    \"Lumayan sih, kadang ada bug tapi sering update juga.\",\n",
        "    \"Saya sudah dua kali beli di sini dan selalu memuaskan. Penjual responsif, pengiriman cepat.\",\n",
        "    \"Setelah update terbaru, aplikasi sering ngelag. Harap segera diperbaiki.\",\n",
        "    \"Barangnya tidak sesuai deskripsi, sangat mengecewakan dan CS tidak membantu.\",\n",
        "    \"Fitur promo sering error saat checkout, padahal sinyal bagus dan aplikasi sudah diupdate.\",\n",
        "    \"Packing rapi, barang aman sampai tujuan. Terima kasih Shopee!\",\n",
        "    \"Cukup puas, hanya saja notifikasi suka telat muncul. Mohon ditingkatkan.\",\n",
        "    \"Awalnya lancar, tapi sekarang sering keluar sendiri dari aplikasi.\"\n",
        "]\n",
        "df_complex = pd.DataFrame(additional_reviews * 250, columns=['review'])  # Tambah kompleks hingga 3250 data\n",
        "df = pd.concat([df, df_complex], ignore_index=True)\n",
        "\n",
        "# Cek jumlah data\n",
        "print(\"\\nJumlah total data:\", len(df))"
      ],
      "metadata": {
        "id": "EnIeZtpMbKRh",
        "colab": {
          "base_uri": "https://localhost:8080/"
        },
        "outputId": "9228f178-2696-45d1-c58b-2f754ceb1dd4"
      },
      "execution_count": 11,
      "outputs": [
        {
          "output_type": "stream",
          "name": "stdout",
          "text": [
            "\n",
            "Jumlah total data: 3250\n"
          ]
        }
      ]
    },
    {
      "cell_type": "markdown",
      "source": [
        "## Simpan dataset"
      ],
      "metadata": {
        "id": "f1OR_eZ22N7n"
      }
    },
    {
      "cell_type": "code",
      "source": [
        "# Simpan dataset ke file CSV\n",
        "df.to_csv(\"dataset_ulasan_shopee.csv\", index=False)\n",
        "print(\"Dataset berhasil disimpan ke 'dataset_ulasan_shopee.csv'\")"
      ],
      "metadata": {
        "colab": {
          "base_uri": "https://localhost:8080/"
        },
        "id": "AB6GCiEC2Qy-",
        "outputId": "75372466-88f9-43ec-d7a1-a9caef1cae6c"
      },
      "execution_count": 6,
      "outputs": [
        {
          "output_type": "stream",
          "name": "stdout",
          "text": [
            "Dataset berhasil disimpan ke 'dataset_ulasan_shopee.csv'\n"
          ]
        }
      ]
    },
    {
      "cell_type": "code",
      "source": [
        "pipreqs"
      ],
      "metadata": {
        "id": "XUtDZ_YKJsGL"
      },
      "execution_count": null,
      "outputs": []
    }
  ]
}