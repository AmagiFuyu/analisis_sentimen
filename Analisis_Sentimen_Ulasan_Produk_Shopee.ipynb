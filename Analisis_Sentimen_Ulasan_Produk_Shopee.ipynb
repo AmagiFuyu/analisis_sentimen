{
  "nbformat": 4,
  "nbformat_minor": 0,
  "metadata": {
    "colab": {
      "provenance": []
    },
    "kernelspec": {
      "name": "python3",
      "display_name": "Python 3"
    },
    "language_info": {
      "name": "python"
    }
  },
  "cells": [
    {
      "cell_type": "markdown",
      "source": [
        "## Download Library Sastrawi"
      ],
      "metadata": {
        "id": "nxPgFEhztHOw"
      }
    },
    {
      "cell_type": "code",
      "source": [
        "!pip install Sastrawi\n",
        "from Sastrawi.Stemmer.StemmerFactory import StemmerFactory\n",
        "factory = StemmerFactory()\n",
        "stemmer = factory.create_stemmer()"
      ],
      "metadata": {
        "colab": {
          "base_uri": "https://localhost:8080/"
        },
        "id": "i-dK-hzutNUH",
        "outputId": "3ad6b9cf-633b-44a3-a0b8-2156b7d93730"
      },
      "execution_count": 2,
      "outputs": [
        {
          "output_type": "stream",
          "name": "stdout",
          "text": [
            "Requirement already satisfied: Sastrawi in /usr/local/lib/python3.11/dist-packages (1.0.1)\n"
          ]
        }
      ]
    },
    {
      "cell_type": "markdown",
      "source": [
        "## Import Library"
      ],
      "metadata": {
        "id": "SfvuSLbtq6I4"
      }
    },
    {
      "cell_type": "code",
      "execution_count": 14,
      "metadata": {
        "colab": {
          "base_uri": "https://localhost:8080/"
        },
        "id": "wpyffUW4qw6T",
        "outputId": "f5519726-9a7b-49ba-ab96-89f2f4ef3b8b"
      },
      "outputs": [
        {
          "output_type": "stream",
          "name": "stderr",
          "text": [
            "[nltk_data] Downloading package stopwords to /root/nltk_data...\n",
            "[nltk_data]   Package stopwords is already up-to-date!\n"
          ]
        },
        {
          "output_type": "execute_result",
          "data": {
            "text/plain": [
              "True"
            ]
          },
          "metadata": {},
          "execution_count": 14
        }
      ],
      "source": [
        "# Import Library\n",
        "import pandas as pd\n",
        "import re\n",
        "from bs4 import BeautifulSoup\n",
        "from sklearn.model_selection import train_test_split, GridSearchCV\n",
        "from sklearn.feature_extraction.text import TfidfVectorizer\n",
        "from sklearn.linear_model import LogisticRegression\n",
        "from sklearn.svm import SVC\n",
        "from sklearn.ensemble import RandomForestClassifier\n",
        "from sklearn.metrics import classification_report, accuracy_score\n",
        "from nltk.corpus import stopwords\n",
        "from Sastrawi.Stemmer.StemmerFactory import StemmerFactory\n",
        "import nltk\n",
        "\n",
        "#Download NLTK Stopwords\n",
        "nltk.download('stopwords')"
      ]
    },
    {
      "cell_type": "markdown",
      "source": [
        "## Preprocessing Text"
      ],
      "metadata": {
        "id": "nvM5rgCVZa2i"
      }
    },
    {
      "cell_type": "code",
      "source": [
        "factory = StemmerFactory()\n",
        "stemmer = factory.create_stemmer()\n",
        "\n",
        "stop_words = set(stopwords.words('indonesian'))\n",
        "\n",
        "def preprocess_text(text):\n",
        "    text = text.lower()\n",
        "    text = re.sub(r\"[^a-zA-Z\\s]\", \"\", text)\n",
        "    tokens = text.split()\n",
        "    tokens = [stemmer.stem(word) for word in tokens if word not in stop_words]\n",
        "    return \" \".join(tokens)"
      ],
      "metadata": {
        "id": "5r0O34ikZjpa"
      },
      "execution_count": 6,
      "outputs": []
    },
    {
      "cell_type": "markdown",
      "source": [
        "## Load Dataset"
      ],
      "metadata": {
        "id": "PAJrCYRCbIRx"
      }
    },
    {
      "cell_type": "code",
      "source": [
        "df = pd.read_csv(\"dataset_ulasan_shopee.csv\")"
      ],
      "metadata": {
        "id": "EnIeZtpMbKRh"
      },
      "execution_count": 4,
      "outputs": []
    },
    {
      "cell_type": "markdown",
      "source": [
        "## Labeling"
      ],
      "metadata": {
        "id": "em7pNfMnEp69"
      }
    },
    {
      "cell_type": "code",
      "source": [
        "# Labeling berdasarkan kata kunci\n",
        "positive_keywords = [\"bagus\", \"mantap\", \"cepat\", \"puas\", \"keren\", \"terbaik\", \"menyenangkan\", \"lancar\", \"responsif\", \"oke\"]\n",
        "negative_keywords = [\"jelek\", \"lemot\", \"buruk\", \"error\", \"gagal\", \"parah\", \"kecewa\", \"bug\", \"force close\"]\n",
        "\n",
        "def label_sentiment(text):\n",
        "    text = text.lower()\n",
        "    if any(word in text for word in positive_keywords):\n",
        "        return \"positif\"\n",
        "    elif any(word in text for word in negative_keywords):\n",
        "        return \"negatif\"\n",
        "    else:\n",
        "        return \"netral\"\n",
        "\n",
        "if \"label\" not in df.columns:\n",
        "    df[\"label\"] = df[\"review\"].apply(label_sentiment)\n",
        "\n",
        "# Filter dan preprocessing\n",
        "df = df[df['label'].isin(['positif', 'netral', 'negatif'])]\n",
        "df[\"clean_review\"] = df[\"review\"].apply(preprocess_text)"
      ],
      "metadata": {
        "id": "pzdrSO5NErpt"
      },
      "execution_count": 7,
      "outputs": []
    },
    {
      "cell_type": "markdown",
      "source": [
        "## Split Dataset"
      ],
      "metadata": {
        "id": "WRsM7L1YaTxC"
      }
    },
    {
      "cell_type": "code",
      "source": [
        "X = df[\"clean_review\"]\n",
        "y = df[\"label\"]\n",
        "\n",
        "X_train, X_test, y_train, y_test = train_test_split(X, y, test_size=0.2, random_state=42)"
      ],
      "metadata": {
        "id": "uoJ6oeZgaYOa"
      },
      "execution_count": 8,
      "outputs": []
    },
    {
      "cell_type": "markdown",
      "source": [
        "## Model Traning"
      ],
      "metadata": {
        "id": "XP0pl65KafF6"
      }
    },
    {
      "cell_type": "code",
      "source": [
        "vectorizer = TfidfVectorizer(max_features=5000)\n",
        "X_train_tfidf = vectorizer.fit_transform(X_train)\n",
        "X_test_tfidf = vectorizer.transform(X_test)"
      ],
      "metadata": {
        "id": "IPgUhy6WahgJ"
      },
      "execution_count": 9,
      "outputs": []
    },
    {
      "cell_type": "markdown",
      "source": [
        "### Model 1: Logistic Regression"
      ],
      "metadata": {
        "id": "Rj6LA_SNvVvv"
      }
    },
    {
      "cell_type": "code",
      "source": [
        "# Logisitic Regression\n",
        "lr = LogisticRegression(max_iter=300)\n",
        "lr.fit(X_train_tfidf, y_train)\n",
        "y_pred_train_lr = lr.predict(X_train_tfidf)\n",
        "y_pred_lr = lr.predict(X_test_tfidf)\n",
        "acc_train_lr = accuracy_score(y_train, y_pred_train_lr) * 100\n",
        "acc_test_lr = accuracy_score(y_test, y_pred_lr) * 100"
      ],
      "metadata": {
        "id": "CUj68flfvjIn"
      },
      "execution_count": 10,
      "outputs": []
    },
    {
      "cell_type": "markdown",
      "source": [
        "### Model 2: SVM"
      ],
      "metadata": {
        "id": "qVb0Yu-DvaPf"
      }
    },
    {
      "cell_type": "code",
      "source": [
        "# SVM\n",
        "svm = SVC()\n",
        "svm.fit(X_train_tfidf, y_train)\n",
        "y_pred_train_svm = svm.predict(X_train_tfidf)\n",
        "y_pred_svm = svm.predict(X_test_tfidf)\n",
        "acc_train_svm = accuracy_score(y_train, y_pred_train_svm) * 100\n",
        "acc_test_svm = accuracy_score(y_test, y_pred_svm) * 100"
      ],
      "metadata": {
        "id": "XAtG3T3JvtA3"
      },
      "execution_count": 11,
      "outputs": []
    },
    {
      "cell_type": "markdown",
      "source": [
        "### Model 3: Random Forest"
      ],
      "metadata": {
        "id": "wel72_t2vdc_"
      }
    },
    {
      "cell_type": "code",
      "source": [
        "# Random Forest\n",
        "rf = RandomForestClassifier()\n",
        "rf.fit(X_train_tfidf, y_train)\n",
        "y_pred_train_rf = rf.predict(X_train_tfidf)\n",
        "y_pred_rf = rf.predict(X_test_tfidf)\n",
        "acc_train_rf = accuracy_score(y_train, y_pred_train_rf) * 100\n",
        "acc_test_rf = accuracy_score(y_test, y_pred_rf) * 100"
      ],
      "metadata": {
        "id": "8n9fzpwdvuGn"
      },
      "execution_count": 12,
      "outputs": []
    },
    {
      "cell_type": "markdown",
      "source": [
        "## Evaluasi Tiap Model"
      ],
      "metadata": {
        "id": "BSeYwKWEv_DH"
      }
    },
    {
      "cell_type": "code",
      "source": [
        "print(\"\\nAkurasi Logistic Regression - Training: {:.2f}%\".format(acc_train_lr))\n",
        "print(\"Akurasi Logistic Regression - Testing : {:.2f}%\".format(acc_test_lr))\n",
        "\n",
        "print(\"\\nAkurasi SVM - Training: {:.2f}%\".format(acc_train_svm))\n",
        "print(\"Akurasi SVM - Testing : {:.2f}%\".format(acc_test_svm))\n",
        "\n",
        "print(\"\\nAkurasi Random Forest - Training: {:.2f}%\".format(acc_train_rf))\n",
        "print(\"Akurasi Random Forest - Testing : {:.2f}%\".format(acc_test_rf))\n",
        "\n",
        "print(\"\\nClassification Report - Logistic Regression:\")\n",
        "print(classification_report(y_test, y_pred_lr))"
      ],
      "metadata": {
        "colab": {
          "base_uri": "https://localhost:8080/"
        },
        "id": "xWGKou9kv8BA",
        "outputId": "b9621398-c41c-4715-c205-c46f0ac4e8ee"
      },
      "execution_count": 13,
      "outputs": [
        {
          "output_type": "stream",
          "name": "stdout",
          "text": [
            "\n",
            "Akurasi Logistic Regression - Training: 100.00%\n",
            "Akurasi Logistic Regression - Testing : 100.00%\n",
            "\n",
            "Akurasi SVM - Training: 100.00%\n",
            "Akurasi SVM - Testing : 100.00%\n",
            "\n",
            "Akurasi Random Forest - Training: 100.00%\n",
            "Akurasi Random Forest - Testing : 100.00%\n",
            "\n",
            "Classification Report - Logistic Regression:\n",
            "              precision    recall  f1-score   support\n",
            "\n",
            "     negatif       1.00      1.00      1.00        59\n",
            "      netral       1.00      1.00      1.00       213\n",
            "     positif       1.00      1.00      1.00       378\n",
            "\n",
            "    accuracy                           1.00       650\n",
            "   macro avg       1.00      1.00      1.00       650\n",
            "weighted avg       1.00      1.00      1.00       650\n",
            "\n"
          ]
        }
      ]
    }
  ]
}